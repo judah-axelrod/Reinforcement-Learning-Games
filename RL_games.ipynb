{
 "cells": [
  {
   "cell_type": "markdown",
   "metadata": {},
   "source": [
    "# Part I"
   ]
  },
  {
   "cell_type": "code",
   "execution_count": 1,
   "metadata": {},
   "outputs": [],
   "source": [
    "import numpy as np\n",
    "import matplotlib.pyplot as plt\n",
    "import two_player_game1 as tpg1\n",
    "import two_player_game2 as tpg2"
   ]
  },
  {
   "cell_type": "code",
   "execution_count": 2,
   "metadata": {},
   "outputs": [],
   "source": [
    "high = 0\n",
    "low = 1\n",
    "actions = [high, low] #player can choose to invest high effort or low effort each round\n",
    "\n",
    "ph = 0.55 #Probability of winning if player invests high effort\n",
    "pl = 0.45 #Probability of winning if player invests low effort\n",
    "ch = 50 #Cost of investing high effort\n",
    "cl = 10 #Cost of investing low effort\n",
    "R = 1000 #Reward for winning (i.e. reaching state d=3)"
   ]
  },
  {
   "cell_type": "markdown",
   "metadata": {},
   "source": [
    "## 1.)  Iterative Evaluation of all Deterministic Policies\n",
    "\n",
    "**NOTE: Throughout this analysis, the actions will be encoded as follows: High Effort = 0 and Low Effort = 1**\n",
    "\n",
    "There are 5 non-terminal states in the environment, corresponding to $d \\in [-2,-1,0,1,2]$ and 2 terminal states, where $d = \\pm 3$. Considering these 5 non-terminal states, since there are two possible actions (high and low effort) that can be taken in each state, there are $2^5 = 32$ possible deterministic policies. (For example, one such possible is exerting high effort in every state.)\n",
    "\n",
    "Using iterative policy evaluation, we can see that the optimal policy, which is the one resulting in the highest value for the initial state of $d=0$, is $[low, low, low, high, high]$. Under this deterministic policy, if the player is tied with or has won fewer games than his opponent ($-3<d\\le0$), he exerts low effort, and if he has won more games ($0<d<3$), he exerts high effort. Assuming that the reward for winning the game is 1,000 and that the player follows this optimal policy, then the value of the initial state of this game is about 281.65. The bar plot belows shows that the most lucrative policies all involve exerting low effort when tied or losing, at least for the specified parameters above."
   ]
  },
  {
   "cell_type": "code",
   "execution_count": 3,
   "metadata": {},
   "outputs": [
    {
     "name": "stdout",
     "output_type": "stream",
     "text": [
      "Optimal policy is (1, 1, 1, 0, 0)\n",
      "Initial state's value under this policy is 281.6528902232666\n",
      "\n"
     ]
    },
    {
     "data": {
      "image/png": "[encoded data removed]",
      "text/plain": [
       "<Figure size 864x432 with 1 Axes>"
      ]
     },
     "metadata": {
      "needs_background": "light"
     },
     "output_type": "display_data"
    }
   ],
   "source": [
    "def iter_policy_eval(policy):\n",
    "    theta = 1e-6\n",
    "    delta = 0\n",
    "    gamma = 1\n",
    "    state_vals = [0,0,0,0,0,0,0] \n",
    "    termination = False\n",
    "    while(not termination):\n",
    "        delta = 0.0\n",
    "        #Store copy of current state values\n",
    "        v_old = np.copy(state_vals) \n",
    "        #Iterate through all states to compute state values\n",
    "        for j in range(1,len(state_vals)-1):\n",
    "            win_prob = ph if policy[j-1] == 0 else pl\n",
    "            reward = -ch if policy[j-1] == 0 else -cl\n",
    "            if j == 5: #Special condition if a win from this state leads to victory\n",
    "                state_vals[j] = win_prob*(reward + R + gamma * v_old[j+1]) + (1-win_prob)*(reward + gamma * v_old[j-1])\n",
    "            else:\n",
    "                state_vals[j] = win_prob*(gamma*v_old[j+1]+reward) + (1-win_prob)*(gamma*v_old[j-1]+reward)\n",
    "            delta = np.maximum(delta, np.abs(v_old[j] - state_vals[j])) #Update delta\n",
    "        if delta < theta: #Determine whether termination criteria is met\n",
    "            termination = True\n",
    "\n",
    "    return state_vals\n",
    "\n",
    "import itertools\n",
    "policies = list(itertools.product(actions, repeat=5)) #generate all possible deterministic policies\n",
    "state_values = [iter_policy_eval(p) for p in policies] #compute state values for each policy\n",
    "pol_number = np.argmax([val[3] for val in state_values]) #retrieve policy with highest initial state value \n",
    "pol_value_init = np.max([val[3] for val in state_values]) #retrieve the corresponding value from this policy\n",
    "print('Optimal policy is {}'.format(policies[pol_number]))\n",
    "print('Initial state\\'s value under this policy is {}\\n'.format(pol_value_init))\n",
    "#Plot initial state values for all 32 policies\n",
    "labels = [str(p) for p in policies]\n",
    "fig, ax = plt.subplots(figsize=(12,6))\n",
    "bars = plt.bar(range(32),[val[3] for val in state_values], label=policies)\n",
    "bars[28].set_color('red')\n",
    "plt.xlabel('Policy $\\pi$')\n",
    "plt.ylabel('Initial State Value $V_{\\pi}(0)$')\n",
    "# ax.set_xticklabels(labels)\n",
    "plt.xticks(np.arange(32),rotation=90, labels=labels)\n",
    "plt.title('Initial State Values for all 32 Deterministic Policies');"
   ]
  },
  {
   "cell_type": "markdown",
   "metadata": {},
   "source": [
    "## 2.) Monte Carlo Off-Policy Evaluation\n",
    "\n",
    "Using Monte Carlo methods, we can generate sample \"episodes\" of the game, where each episode consists of one full play-through of the game. From this sample, we can estimate the action-values on an episode-by-episode basis; however, because we have to wait for the conclusion of each episode to update our estimates, this method can suffer from high variance and thus require a very large number of episodes to converge to accurate action-values.\n",
    "\n",
    "Implementing Monte Carlo off-policy evaluation, I found that even with 500,000 episodes, my action values fluctuated somewhat significantly each time, as does the optimal policy. This is possibly because 500,000 episodes is not enough to lead to convergence, or it could be because the win probabilities $p_{High}=0.55$ and $p_{Low}=0.45$ are too close together, making it difficult to distinguish between the actions due to random chance. To compensate for this instability, I treated each run of 500,000 episodes as a simulation and ran the simulation 10 times. Averaging these results, I obtain the following action-values, which I found to be more robust to random variation:\n",
    "\n",
    "\n",
    "| State | Actions | |\n",
    "| --------- | ----------- | ---------- |\n",
    "|          | High Effort | Low Effort |\n",
    "| d = -3 | 0 | 0 |\n",
    "| d = -2 | 27.52 | **29.81** |\n",
    "| d = -1 | 68.44|**135.70** |\n",
    "| d = 0 | **271.22**|223.07 |\n",
    "| d = 1 |**491.56** | 468.64|\n",
    "| d = 2 |**751.88**|661.14|\n",
    "| d = 3 | 0 | 0 |\n",
    "\n",
    "As we can see from the bolded actions values (which are optimal given each state), the target policy specified below is not the optimal one. The optimal policy according to this MC estimation method is to invest low effort when losing and high effort when tied or winning. Reassuringly, this is very similar to the optimal policy found in part I using the initial state values (the only difference is the suggested action when $d=0$). In fact, the plot in part I shows that this policy of $[low, low, high, high, high]$ ranks in the top 5 in terms of initial state value. This gives us greater confidence that our results here make sense."
   ]
  },
  {
   "cell_type": "code",
   "execution_count": 4,
   "metadata": {},
   "outputs": [],
   "source": [
    "#Target policy here is to always choose high effort unless winning by 2 rounds\n",
    "def target_policy(d):\n",
    "    return 0 if d <= 1 else 1\n",
    "#Random behavioral policy\n",
    "def behavior_policy():\n",
    "    return np.random.binomial(1, 0.5)\n",
    "\n",
    "env = tpg1.two_player_game1()"
   ]
  },
  {
   "cell_type": "code",
   "execution_count": 5,
   "metadata": {},
   "outputs": [],
   "source": [
    "def MC_offpolicy_eval(target_policy, gamma=1, n_episodes=500000):\n",
    "    Q = np.zeros((7,2))\n",
    "    C = np.zeros_like(Q)\n",
    "    for ep in range(n_episodes):    \n",
    "        done = False\n",
    "        env.reset()\n",
    "        history = {'states':[0], 'actions':[], 'rewards':[]}\n",
    "        #Generate data according to behavior policy\n",
    "        while not done:\n",
    "            action = behavior_policy()\n",
    "            state, reward, done = env.step(action)\n",
    "            history['states'].append(state)\n",
    "            history['actions'].append(action)\n",
    "            history['rewards'].append(reward)\n",
    "            G=0\n",
    "            W=1\n",
    "        #Evaluate target policy\n",
    "        for i in range(len(history['actions'])-1, -1, -1):\n",
    "            state, action, reward = history['states'][i], history['actions'][i], history['rewards'][i]\n",
    "            G = gamma*G + reward \n",
    "            C[state+3][action] += W\n",
    "            #Update action values\n",
    "            Q[state+3][action] = Q[state+3][action] + (W/C[state+3][action])*(G-Q[state+3][action])\n",
    "            #Depending on state, target policy always or never takes the given action (deterministic)\n",
    "            target_prob = 1 if action == target_policy(state) else 0 \n",
    "            behavior_prob = 0.5 #Always 0.5 prob of choosing either action, regardless of state\n",
    "            #Update importance weights\n",
    "            W = W*target_prob/behavior_prob\n",
    "            #Exit loop if weight = 0\n",
    "            if W == 0:\n",
    "                break\n",
    "    return Q"
   ]
  },
  {
   "cell_type": "code",
   "execution_count": 6,
   "metadata": {},
   "outputs": [
    {
     "data": {
      "text/plain": [
       "array([[  0.        ,   0.        ],\n",
       "       [ 27.51706568,  29.80957067],\n",
       "       [ 68.44108131, 135.69912484],\n",
       "       [271.22456805, 223.07100736],\n",
       "       [491.56175508, 468.6396233 ],\n",
       "       [751.87924601, 661.13557219],\n",
       "       [  0.        ,   0.        ]])"
      ]
     },
     "execution_count": 6,
     "metadata": {},
     "output_type": "execute_result"
    }
   ],
   "source": [
    "# Conduct 10 runs of 500,000 episodes each\n",
    "Q_avg = np.zeros((7,2))\n",
    "runs = 10\n",
    "\n",
    "np.random.seed(1)\n",
    "for _ in range(runs):\n",
    "    Q_avg += MC_offpolicy_eval(target_policy)\n",
    "#Average action-values of the 10 runs\n",
    "Q_avg /= runs\n",
    "Q_avg"
   ]
  },
  {
   "cell_type": "markdown",
   "metadata": {},
   "source": [
    "## 3.) Monte Carlo Off-Policy Control\n",
    "\n",
    "Monte Carlo control is very similar to evaluation, with an extra step. After generating data according to a random behavior policy, the algorithm updates the action-values, just as done above. But control introduces a policy improvement element, in which the target policy greedily chooses the most valuable action at every step. This policy improvement procedure is guaranteed to yield a policy that is at least as good if not better than the existing target policy, and it allows for iterative improvement of the target policy. \n",
    "\n",
    "Again, for the same reasons as above, my results are subject to random variation, but now there is an additional reason: if the action taken by the behavior policy is different than the one the target policy would have taken at that step, then the episode ends. This can lead to some extremely short episodes, which introduces even more variance into the results. I omit the 10-run simulation here because the goal of off-policy control is to return a policy rather than a set of values that can be averaged together, but I want to note that this algorithm likely needs more episodes or more separation between the actions' win probabilities.\n",
    "\n",
    "We can see that through off-policy control, we obtain an optimal target policy of $[low, high, high, high, low]$. Some of the pairs of action values (e.g. for $d=0$) are extremely similar, demonstrating how different runs of the algorithms can yield different optimal policies. The action values do make sense, gradually increasing as the player gets closer to winning the game:\n",
    "\n",
    "| State | Actions | |\n",
    "| --------- | ----------- | ---------- |\n",
    "|          | High Effort | Low Effort |\n",
    "| d = -3 | 0 | 0 |\n",
    "| d = -2 | 47.06 | **53.53** |\n",
    "| d = -1 | **177.93**|166.00 |\n",
    "| d = 0 | **347.96**|344.97 |\n",
    "| d = 1 |**585.16** | 556.86|\n",
    "| d = 2 |744.83|**797.98**|\n",
    "| d = 3 | 0 | 0 |\n"
   ]
  },
  {
   "cell_type": "code",
   "execution_count": 7,
   "metadata": {},
   "outputs": [],
   "source": [
    "def MC_offpolicy_ctrl(gamma=1, n_episodes=500000):\n",
    "    Q = np.zeros((7,2))\n",
    "    C = np.zeros_like(Q)\n",
    "    target_policy = np.zeros(7) #Arbitrary initialization of target policy\n",
    "    for ep in range(n_episodes):    \n",
    "        done = False\n",
    "        env.reset()\n",
    "        history = {'states':[0], 'actions':[], 'rewards':[]}\n",
    "        #Generate data according to behavior policy\n",
    "        while not done:\n",
    "            action = behavior_policy()\n",
    "            state, reward, done = env.step(action)\n",
    "            history['states'].append(state)\n",
    "            history['actions'].append(action)\n",
    "            history['rewards'].append(reward)\n",
    "            G=0\n",
    "            W=1\n",
    "        #Evaluate target policy\n",
    "        for i in range(len(history['actions'])-1, -1, -1):\n",
    "            state, action, reward = history['states'][i], history['actions'][i], history['rewards'][i]\n",
    "            G = gamma*G + reward\n",
    "            C[state+3][action] += W\n",
    "            Q[state+3][action] = Q[state+3][action] + (W/C[state+3][action])*(G-Q[state+3][action])\n",
    "            #Improve target policy greedily\n",
    "            target_policy[state+3] = np.argmax(Q[state+3])\n",
    "            behavior_prob = 0.5 #Always 0.5 prob of choosing either action, regardless of state\n",
    "            W = W*1/behavior_prob\n",
    "            if target_policy[state+3] != action:\n",
    "                break\n",
    "    return target_policy[1:6], Q"
   ]
  },
  {
   "cell_type": "code",
   "execution_count": 8,
   "metadata": {},
   "outputs": [
    {
     "data": {
      "text/plain": [
       "(array([1., 0., 0., 0., 1.]),\n",
       " array([[  0.        ,   0.        ],\n",
       "        [ 47.05698557,  53.52835735],\n",
       "        [177.92650552, 166.00457419],\n",
       "        [347.95646706, 344.96646303],\n",
       "        [585.16292104, 556.86255089],\n",
       "        [744.82550574, 797.9760042 ],\n",
       "        [  0.        ,   0.        ]]))"
      ]
     },
     "execution_count": 8,
     "metadata": {},
     "output_type": "execute_result"
    }
   ],
   "source": [
    "np.random.seed(1)\n",
    "MC_offpolicy_ctrl()"
   ]
  },
  {
   "cell_type": "markdown",
   "metadata": {},
   "source": [
    "# Part II\n",
    "## 1.) Q-Learning algorithm\n",
    "We move now to Temporal Difference (TD) methods. The first is Q-learning, an off-policy TD control method. In this implementation, the behavior policy is $\\epsilon$-greedy, while the the target policy used for learning is greedy. Just as with off-policy MC control, the behavior policy determines which states and actions are visited, and so we need it to be exploring the entire state-action space, which is a fair assumption given $\\epsilon=0.1$ over 500,000 episodes.\n",
    "\n",
    "Q-learning yields an optimal policy of $[low, low, low, high, high]$, which is identical to the optimal policy obtained through iterative evaluation in part I above. The results here are also stabler than the Monte Carlo results; if I rerun the simulation I get the same optimal policy. The action values obtained from Q-learning are:\n",
    "\n",
    "\n",
    "| State | Actions | |\n",
    "| --------- | ----------- | ---------- |\n",
    "|          | High Effort | Low Effort |\n",
    "| d = -3 | 0 | 0 |\n",
    "| d = -2 | 29.54 | **54.25** |\n",
    "| d = -1 | 132.02|**148.67** |\n",
    "| d = 0 | 274.65|**289.74** |\n",
    "| d = 1 |**469.42** | 461.88|\n",
    "| d = 2 |**710.84**|691.73|\n",
    "| d = 3 | 0 | 0 |"
   ]
  },
  {
   "cell_type": "code",
   "execution_count": 9,
   "metadata": {},
   "outputs": [],
   "source": [
    "def eps_greedy(q_values, eps=0.1):\n",
    "    if np.random.binomial(1, eps) == 1:\n",
    "        return np.random.choice(np.arange(len(q_values)))\n",
    "    else:\n",
    "        return np.argmax(q_values)\n",
    "    \n",
    "env = tpg1.two_player_game1()"
   ]
  },
  {
   "cell_type": "code",
   "execution_count": 10,
   "metadata": {},
   "outputs": [],
   "source": [
    "def q_learning(n_episodes=500000, eta=0.001, gamma=1):\n",
    "    Q = np.zeros((7,2))\n",
    "    rewards = np.zeros(n_episodes)\n",
    "    for ep in range(n_episodes):\n",
    "        env.reset()\n",
    "        state = 0 #Initial state\n",
    "        done = False\n",
    "        while not done:\n",
    "            #Choose action given state\n",
    "            action = eps_greedy(Q[state+3])\n",
    "            next_state, reward, done = env.step(action)\n",
    "            #Updates\n",
    "            Q[state+3, action] = Q[state+3, action] + \\\n",
    "                                        eta*(reward + gamma * np.max(Q[next_state+3]) - Q[state+3,action])\n",
    "            state = next_state\n",
    "    return Q"
   ]
  },
  {
   "cell_type": "code",
   "execution_count": 11,
   "metadata": {},
   "outputs": [
    {
     "name": "stdout",
     "output_type": "stream",
     "text": [
      "[[  0.           0.        ]\n",
      " [ 29.5419813   54.25199292]\n",
      " [132.02000078 148.66549623]\n",
      " [274.6541277  289.74485752]\n",
      " [469.41962209 461.87879183]\n",
      " [710.83897043 691.73465477]\n",
      " [  0.           0.        ]]\n"
     ]
    },
    {
     "data": {
      "text/plain": [
       "array([0, 1, 1, 1, 0, 0, 0])"
      ]
     },
     "execution_count": 11,
     "metadata": {},
     "output_type": "execute_result"
    }
   ],
   "source": [
    "np.random.seed(1)\n",
    "q_vals = q_learning()\n",
    "print(q_vals)\n",
    "np.argmax(q_vals, axis=1)"
   ]
  },
  {
   "cell_type": "markdown",
   "metadata": {},
   "source": [
    "## 2.) SARSA algorithm\n",
    "\n",
    "The SARSA algorithm is very similar to Q-learning, utilizing for policy improvement the quintuple of values $(s_t, a_t, r_{t+1}, s_{t+1}, a_{t+1})$ that give it its name. The key difference is that at each step, the $a_t$ and $a_{t+1}$ are chosen according to the same policy (in this case $\\epsilon$-greedy), so SARSA is an on-policy learning method. \n",
    "\n",
    "SARSA yields the same optimal policy as Q-learning of $[low, low, low, high, high]$, and again this result is robust to random variation if I rerun the algorithm. The action-values are also extremely similar to the ones obtained from Q-learning. Both of these results provide a nice demonstration of the advantages of TD methods, which can update step-by-step within an episode, compared to the episode-by-episode updating structure in MC methods. For a game such as this one with so much variation, TD methods are able to yield estimates that converge much faster and are subject to less variation. Here are the estimated action-values:\n",
    "\n",
    "| State | Actions | |\n",
    "| --------- | ----------- | ---------- |\n",
    "|          | High Effort | Low Effort |\n",
    "| d = -3 | 0 | 0 |\n",
    "| d = -2 | 26.04 | **53.82** |\n",
    "| d = -1 | 119.35|**141.19** |\n",
    "| d = 0 | 262.63|**271.05** |\n",
    "| d = 1 |**458.49** | 451.63|\n",
    "| d = 2 |**700.12**|679.58|\n",
    "| d = 3 | 0 | 0 |"
   ]
  },
  {
   "cell_type": "code",
   "execution_count": 12,
   "metadata": {},
   "outputs": [],
   "source": [
    "def sarsa(n_episodes=500000, eta=0.001, gamma=1):\n",
    "    Q = np.zeros((7,2))\n",
    "    rewards = np.zeros(n_episodes)\n",
    "    for ep in range(n_episodes):\n",
    "        env.reset()\n",
    "        state = 0 #Initial state\n",
    "        done = False\n",
    "        action = eps_greedy(Q[state+3]) #Choose action according to eps greedy\n",
    "\n",
    "        while not done:\n",
    "            next_state, reward, done = env.step(action)\n",
    "            next_action = eps_greedy(Q[next_state+3]) #Next action chosen according to same eps greedy policy \n",
    "            #Updates\n",
    "            Q[state+3, action] = Q[state+3, action] + \\\n",
    "                                        eta*(reward + gamma * Q[next_state+3, next_action] - Q[state+3,action])\n",
    "            state = next_state\n",
    "            action = next_action\n",
    "\n",
    "    return Q"
   ]
  },
  {
   "cell_type": "code",
   "execution_count": 13,
   "metadata": {},
   "outputs": [
    {
     "name": "stdout",
     "output_type": "stream",
     "text": [
      "[[  0.           0.        ]\n",
      " [ 26.04403363  53.81995496]\n",
      " [119.35399459 141.19028847]\n",
      " [262.62822186 271.04579305]\n",
      " [458.49044489 451.6345784 ]\n",
      " [700.12340078 679.5771637 ]\n",
      " [  0.           0.        ]]\n"
     ]
    },
    {
     "data": {
      "text/plain": [
       "array([0, 1, 1, 1, 0, 0, 0])"
      ]
     },
     "execution_count": 13,
     "metadata": {},
     "output_type": "execute_result"
    }
   ],
   "source": [
    "np.random.seed(1)\n",
    "q_vals = sarsa()\n",
    "print(q_vals)\n",
    "np.argmax(q_vals, axis=1)"
   ]
  },
  {
   "cell_type": "markdown",
   "metadata": {},
   "source": [
    "## 3.) TD($\\lambda$) algorithm\n",
    "\n",
    "Finally, we use TD($\\lambda$) to evaluate the performance of an agent that uses a random policy to play the game. Unlike Q-learning and SARSA, TD($\\lambda$) incorporates the use of eligibility traces, which is essentially a way to track which states are \"eligible\" for learning, based on the frequencies of visits to those states. **Note**: The older edition of Barto and Sutton's *Reinforcement Learning: An Introduction* fails to include in the pseudocode for TD($\\lambda$) and SARSA($\\lambda$) that the eligibility traces should be reset at the start of each episode, but I do so here because this seems to have been a typo (and it doesn't make sense for state visits in episode *t* to be carried over to episode $t+1$). \n",
    "\n",
    "In the TD($\\lambda$) algorithm, $\\lambda \\in [0,1] $ is a hyperparameter that allows the algorithm to bridge the gap between then MC and TD methods described above. If $\\lambda=0$, this is equivalent to a TD method that updates after every step within an episode (i.e. 1-step backup), and if $\\lambda=1$, this is equivalent to a MC algorithm that only updates after the completion of the episode (i.e. full backup).\n",
    "\n",
    "Here are the estimated values from this random policy according to TD($\\lambda=0.9$):\n",
    "\n",
    "| State | Value |\n",
    "| ----- | ----- |\n",
    "| d = -3 | 0|\n",
    "| d = -2 | 14.16 |\n",
    "| d = -1 | 91.39 |\n",
    "| d = 0 | 227.23 |\n",
    "| d = 1 | 422.03 |\n",
    "| d = 2 | 680.18|\n",
    "| d = 3 | 0 |\n",
    "\n",
    "Interestingly, the initial state value ($d=0$) is 227.23. Below, I reproduce the plot from part I that shows the estimated initial state values for all deterministic policies, with a red dashed line marking the TD($\\lambda$) estimate for this random policy. We can see that the random policy outperforms just about half of the deterministic policies (15 out of 32) and underperforms the remaining policies, which is a nice sanity check of these results since this is exactly what we should expect from a completely random policy!"
   ]
  },
  {
   "cell_type": "code",
   "execution_count": 14,
   "metadata": {},
   "outputs": [],
   "source": [
    "def td_lambda(n_episodes=500000, gamma=1, lam=0.9, eta=0.0001):\n",
    "    state_values = np.zeros(7)\n",
    "#     elig = np.zeros(7)\n",
    "    for ep in range(n_episodes):\n",
    "        elig = np.zeros(7)\n",
    "        env.reset()\n",
    "        state = 0 #Initial state\n",
    "        done = False\n",
    "        while not done:\n",
    "            action = np.random.binomial(1, 0.5) #Random policy\n",
    "            next_state, reward, done = env.step(action)\n",
    "            delta = reward + gamma*(state_values[next_state+3] - state_values[state+3])\n",
    "            elig[state+3] += 1\n",
    "            #Update possible state values for s''\n",
    "            state_values = state_values + eta*elig*delta\n",
    "            elig *= gamma*lam\n",
    "            state = next_state\n",
    "    return state_values"
   ]
  },
  {
   "cell_type": "code",
   "execution_count": 15,
   "metadata": {},
   "outputs": [
    {
     "name": "stdout",
     "output_type": "stream",
     "text": [
      "[  0.          14.15949244  91.38867395 227.22534913 422.02638058\n",
      " 680.18444083   0.        ]\n"
     ]
    }
   ],
   "source": [
    "np.random.seed(1)\n",
    "tdlam_state_vals = td_lambda()\n",
    "print(tdlam_state_vals)"
   ]
  },
  {
   "cell_type": "code",
   "execution_count": 16,
   "metadata": {},
   "outputs": [
    {
     "data": {
      "image/png": "[encoded data removed]",
      "text/plain": [
       "<Figure size 864x432 with 1 Axes>"
      ]
     },
     "metadata": {
      "needs_background": "light"
     },
     "output_type": "display_data"
    }
   ],
   "source": [
    "labels = [str(p) for p in policies]\n",
    "fig, ax = plt.subplots(figsize=(12,6))\n",
    "bars = plt.bar(range(32),[val[3] for val in state_values], label=policies)\n",
    "plt.xlabel('Policy $\\pi$')\n",
    "plt.ylabel('Initial State Value $V_{\\pi}(0)$')\n",
    "# ax.set_xticklabels(labels)\n",
    "plt.xticks(np.arange(32),rotation=90, labels=labels)\n",
    "plt.hlines(y=tdlam_state_vals[3], xmin =0, xmax = 32, color = 'red', linestyle='dashed')\n",
    "plt.title('Initial State Values for all 32 Deterministic Policies');"
   ]
  },
  {
   "cell_type": "markdown",
   "metadata": {},
   "source": [
    "# Part III\n",
    "## 1.) SARSA($\\lambda$) algorithm\n",
    "We now explore a new setup of the game that is very similar but with a slight wrinkle. Now the player can change her behavior depending on both the win counts and her energy level, leading to a total of $7*11=77$ possible states. I implement the SARSA($\\lambda$) algorithm, which is analogous to TD($\\lambda$) above, except that now the goal is to learn the action values, rather than evaluate the state values given a policy (i.e. control instead of prediction).\n",
    "\n",
    "Another slight change is that while the target policy is still $\\epsilon$-greedy, we have to add a constraint that accounts for the fact that if the player doesn't have enough energy remaining to invest high effort, her only option is to choose low effort.\n",
    "\n",
    "Because there are 154 action values, I don't put them all into a table, but the output is visible below. Each of the seven 11x2 arrays corresponds to a different value of $d$, where the rows represent the different energy levels $B$ and the columns are each of the two actions. As $d$ and $B$ increase, we see a steady increase in the action values, which makes sense as players closer to victory and with more energy have more lucrative actions at their disposal. I do present a table below with the optimal deterministic policy given all possible states. A few things to note on this policy:\n",
    "\n",
    "- The agent will almost always choose high effort, except when constrained to choose low effort. In fact, there are only two states in which the agent will choose low effort when it doesn't have to (bolded below).\n",
    "\n",
    "- This makes sense, considering how high the initial value of $B=10$ is. Most episodes of the game will last far fewer than 10 rounds, so an agent could feasibly choose high effort, which is associated with a better win probability, and only very rarely run out of energy.\n",
    "\n",
    "- This result is not very stable. If I rerun the algorithm (even over a much larger number of episodes), I still get a similar policy in terms of mostly all \"High\" actions, but it is not identical. This suggests that the algorithm hasn't converged, which could be due to the increased number of states to explore and the relative rarity of some of those states being visited - especially states where $B$ is very low.\n",
    "       \n",
    "| | B = 0 | 1 | 2 | 3 | 4 | 5 | 6 | 7 | 8 | 9 | 10 |\n",
    "| -- | -- | -- | -- | -- | -- | -- | -- | -- | -- | -- | -- |\n",
    "| **d = -3** | High | High | High | High | High | High | High | High | High | High | High |\n",
    "| **-2** | Low | High | High | High | High | High | High | High | High | High | High |\n",
    "| **-1** | Low | **Low** | **Low** | High | High | High | High | High | High | High | High |\n",
    "| **0** | Low | High | High | High | High | High | High | High | High | High | High |\n",
    "| **1** | Low | High | High | High | High | High | High | High | High | High | High |\n",
    "| **2** | Low | High | High | High | High | High | High | High | High | High | High |\n",
    "| **3** | High | High | High | High | High | High | High | High | High | High | High |"
   ]
  },
  {
   "cell_type": "code",
   "execution_count": 17,
   "metadata": {},
   "outputs": [],
   "source": [
    "def eps_greedy_lim(q_values, B, ch, eps=0.1):\n",
    "    '''Typical eps-greedy policy, but must choose action 1 (low effort) if agent doesn't have enough energy'''\n",
    "    if B < ch:\n",
    "        return 1\n",
    "    elif np.random.binomial(1, eps) == 1:\n",
    "        return np.random.choice(np.arange(len(q_values)))\n",
    "    else:\n",
    "        return np.argmax(q_values)\n",
    "    \n",
    "env = tpg2.two_player_game2()"
   ]
  },
  {
   "cell_type": "code",
   "execution_count": 18,
   "metadata": {},
   "outputs": [],
   "source": [
    "def sarsa_lambda(n_episodes=500000, gamma=0.9, lam=0.9, eta=0.001):\n",
    "    Q = np.zeros((7,11,2)) \n",
    "#     elig = np.zeros((7,11,2))\n",
    "    ch = env.get_ch() #Energy cost of high effort\n",
    "    for ep in range(n_episodes):\n",
    "        elig = np.zeros((7,11,2))\n",
    "        #Initialize state (both d and B) and action\n",
    "        d, B = env.reset()\n",
    "        action = eps_greedy_lim(Q[d+3][B], B, ch) #Apply constrained eps-greedy policy\n",
    "        done = False\n",
    "        while not done:\n",
    "            next_state, reward, done = env.step(action)\n",
    "            next_d, next_B = next_state\n",
    "            next_action = eps_greedy_lim(Q[next_d+3][next_B], next_B, ch)\n",
    "            delta = reward + gamma*Q[next_d+3][next_B][next_action] - Q[d+3][B][action]\n",
    "            elig[d+3][B][action] +=1 \n",
    "            Q += eta*elig*delta\n",
    "            elig *= gamma*lam\n",
    "            d, B = next_state\n",
    "            action = next_action\n",
    "    return Q"
   ]
  },
  {
   "cell_type": "code",
   "execution_count": 19,
   "metadata": {},
   "outputs": [
    {
     "name": "stdout",
     "output_type": "stream",
     "text": [
      "[[[  0.           0.        ]\n",
      "  [  0.           0.        ]\n",
      "  [  0.           0.        ]\n",
      "  [  0.           0.        ]\n",
      "  [  0.           0.        ]\n",
      "  [  0.           0.        ]\n",
      "  [  0.           0.        ]\n",
      "  [  0.           0.        ]\n",
      "  [  0.           0.        ]\n",
      "  [  0.           0.        ]\n",
      "  [  0.           0.        ]]\n",
      "\n",
      " [[  0.          52.7692215 ]\n",
      "  [ 59.87996038  30.0271749 ]\n",
      "  [ 66.89870865  52.08056313]\n",
      "  [ 72.13947902  40.12434697]\n",
      "  [ 77.81992035  56.08561941]\n",
      "  [ 85.56124063  50.77670946]\n",
      "  [ 90.88667662  72.88805286]\n",
      "  [ 93.97212808  63.29249281]\n",
      "  [ 96.08375897  78.56541201]\n",
      "  [100.61059757  67.49102511]\n",
      "  [ 98.67301856  69.38246708]]\n",
      "\n",
      " [[  0.         117.03888762]\n",
      "  [108.10046067 132.60694382]\n",
      "  [120.55733947 140.09871727]\n",
      "  [169.30491905 141.80655124]\n",
      "  [175.38767062 135.09624987]\n",
      "  [182.31294892 166.13371957]\n",
      "  [191.51337113 166.08273735]\n",
      "  [190.32564484 181.43568629]\n",
      "  [206.13928852 173.77607811]\n",
      "  [200.63044118 180.4289073 ]\n",
      "  [203.77049941 182.39694968]]\n",
      "\n",
      " [[  0.         226.66554774]\n",
      "  [251.87639704 181.75889432]\n",
      "  [270.22172381 250.94162997]\n",
      "  [291.86087781 245.26917207]\n",
      "  [300.40900791 279.28254711]\n",
      "  [306.0393007  266.14950162]\n",
      "  [315.24786932 292.63277394]\n",
      "  [330.71627471 300.51842519]\n",
      "  [321.8111796  295.79643318]\n",
      "  [335.68369785 300.58941327]\n",
      "  [332.34025783 307.51801423]]\n",
      "\n",
      " [[  0.         383.37946704]\n",
      "  [419.25052593 352.53555254]\n",
      "  [463.07220767 360.44057008]\n",
      "  [469.6454022  417.67231511]\n",
      "  [479.84466479 405.10984852]\n",
      "  [491.45536866 449.23533746]\n",
      "  [490.26962367 440.76719358]\n",
      "  [488.65900407 451.92058271]\n",
      "  [507.94976538 471.65124574]\n",
      "  [497.49960953 470.20968094]\n",
      "  [507.02822638 455.19752027]]\n",
      "\n",
      " [[  0.         648.33643503]\n",
      "  [720.80333096 404.38881781]\n",
      "  [721.76659738 554.59552792]\n",
      "  [738.05110559 480.34047556]\n",
      "  [749.70860496 627.75852879]\n",
      "  [742.024684   566.2449234 ]\n",
      "  [750.35575197 671.77436947]\n",
      "  [766.06980584 638.23932213]\n",
      "  [752.30881842 697.41556917]\n",
      "  [753.89024074 684.78532922]\n",
      "  [755.12343577 616.80295434]]\n",
      "\n",
      " [[  0.           0.        ]\n",
      "  [  0.           0.        ]\n",
      "  [  0.           0.        ]\n",
      "  [  0.           0.        ]\n",
      "  [  0.           0.        ]\n",
      "  [  0.           0.        ]\n",
      "  [  0.           0.        ]\n",
      "  [  0.           0.        ]\n",
      "  [  0.           0.        ]\n",
      "  [  0.           0.        ]\n",
      "  [  0.           0.        ]]]\n"
     ]
    },
    {
     "data": {
      "text/plain": [
       "array([[0, 0, 0, 0, 0, 0, 0, 0, 0, 0, 0],\n",
       "       [1, 0, 0, 0, 0, 0, 0, 0, 0, 0, 0],\n",
       "       [1, 1, 1, 0, 0, 0, 0, 0, 0, 0, 0],\n",
       "       [1, 0, 0, 0, 0, 0, 0, 0, 0, 0, 0],\n",
       "       [1, 0, 0, 0, 0, 0, 0, 0, 0, 0, 0],\n",
       "       [1, 0, 0, 0, 0, 0, 0, 0, 0, 0, 0],\n",
       "       [0, 0, 0, 0, 0, 0, 0, 0, 0, 0, 0]])"
      ]
     },
     "execution_count": 19,
     "metadata": {},
     "output_type": "execute_result"
    }
   ],
   "source": [
    "np.random.seed(1)\n",
    "sarsa_lam_vals = sarsa_lambda(n_episodes=500000)\n",
    "print(sarsa_lam_vals)\n",
    "np.argmax(sarsa_lam_vals, axis=2)"
   ]
  },
  {
   "cell_type": "markdown",
   "metadata": {},
   "source": [
    "# Part IV\n",
    "## 1.) \n",
    "The described game is completely random with no strategy. In each round, each player will win with probability $p=\\frac{1}{2}$. Determining player $X$'s win probability for $x=1$ and various values of $y$ just requires knowledge of basic probability:\n",
    "\n",
    "- If $x=1$ and $y=1$, the player who wins the next round will win the entire game, so $P(win_X|x=1, y=1)=\\frac{1}{2}$ \n",
    "\n",
    "- If $x=1$ and $y=2$, player $X$ must win each of the next two rounds consecutively in order to win the entire game, so $P(win_X|x=1,y=2)=(\\frac{1}{2})^2=\\frac{1}{4}$ \n",
    "\n",
    "- For any value of $y$, this same pattern holds that player $X$ must win the next $y$ games consecutively to win the game, so $P(win_X|x=1,y)=(\\frac{1}{2})^y$ \n",
    "\n",
    "## 2.)\n",
    "We now determine the win probability for the opposite scenario of $y=1$ and various values of $x$:\n",
    "\n",
    "- Again, $y=1$ and $x=1$, the player who wins the next round will win the entire game, so $P(win_X|y=1,x=1)=\\frac{1}{2}$ \n",
    "\n",
    "- If $y=1$ and $x=2$, then player $X$ must win in one of the next two rounds. Since each round occurs independently of any other, this scenario is equivalent to the probability of winning the first round *OR* losing the first round and winning the second. $$P(win_X|y=1,x=2) = \\frac{1}{2} + (\\frac{1}{2})^2 = \\frac{3}{4}$$\n",
    "\n",
    "- Continuing this pattern, for any value of $x$, player $X$ must win just one of the next $x$ rounds to win the game:\n",
    "$$P(win_X |y=1, x) = \\frac{1}{2} + (\\frac{1}{2})^2 + ... + (\\frac{1}{2})^x = \\sum_{i=1}^x\\frac{1}{2}^i$$\n",
    "\n",
    "## 3.)\n",
    "\n",
    "For any value of $x$ or $y$, there is a closed form solution to the problem that can be solved by realizing that the event of Player $X$ winning the game is a random variable that follows a Negative Binomial Distribution. From Player $X$'s standpoint, the chances of winning the game can be thought of as the probability of achieving $y$ successes before $x$ failures. The corresponding probability mass function is:\n",
    "$$P(win_X|x,y) = \\sum_{i=0}^{x-1} {y+i-1 \\choose y-1}(1-p)^ip^y,$$ \n",
    "where $p = 0.5$ in this case. Another way to think about this intuitively is the probability of player $Y$ winning no more than $x-1$ times (any more would exhaust all of $X$'s tokens) before player $X$ wins $y$ times. Using this formula, here is a table with the win probability values for Player $X$ for each set of $(x,y) \\in [1,10] x [1,10]$:\n",
    "\n",
    "\n",
    "|  | y = 1 | 2 | 3 | 4 | 5 | 6 | 7 | 8 | 9 | 10 |\n",
    "| -- | ----- | -- | -- | -- | -- | -- | -- | -- | -- | -- | \n",
    "| **x = 1** | 0.5000 | 0.2500 | 0.1250 | 0.0625 | 0.0312 | 0.0156 | 0.0078 | 0.0039 | 0.0020 | 0.0010 |\n",
    "| **2** | 0.7500 | 0.5000 | 0.3125 | 0.1875 | 0.1094 | 0.0625 | 0.0352 | 0.0195 | 0.0107 | 0.0059 |\n",
    "| **3** | 0.8750 | 0.6875 | 0.5000 | 0.3438 | 0.2266 | 0.1445 | 0.0898 | 0.0547 | 0.0327 | 0.0193 |\n",
    "| **4** | 0.9375 | 0.8125 | 0.6562 | 0.5000 | 0.3633 | 0.2539 | 0.1719 | 0.1133 | 0.0730 | 0.0461 |\n",
    "| **5** | 0.9688 | 0.8906 | 0.7734 | 0.6367 | 0.5000 | 0.3770 | 0.2744 | 0.1938 | 0.1334 | 0.0898 |\n",
    "| **6** | 0.9844 | 0.9375 | 0.8555 | 0.7461 | 0.6230 | 0.5000 | 0.3872 | 0.2905 | 0.2120 | 0.1509 |\n",
    "| **7** | 0.9922 | 0.9648 | 0.9102 | 0.8281 | 0.7256 | 0.6128 | 0.5000 | 0.3953 | 0.3036 | 0.2272 |\n",
    "| **8** | 0.9961 | 0.9805 | 0.9453 | 0.8867 | 0.8062 | 0.7095 | 0.6047 | 0.5000 | 0.4018 | 0.3145 |\n",
    "| **9** | 0.9980 | 0.9893 | 0.9673 | 0.9270 | 0.8666 | 0.7880 | 0.6964 | 0.5982 | 0.5000 | 0.4073 |\n",
    "| **10** | 0.9990 | 0.9941 | 0.9807 | 0.9539 | 0.9102 | 0.8491 | 0.7728 | 0.6855 | 0.5927 | 0.500 0|\n",
    "\n",
    "Just to sanity check these results, I also use Monte Carlo methods to simulate 50,000 games for each set of $(x,y) \\in [1,10] x [1,10]$. The table below presents player $X$'s win probability for each pair of starting token values, and the values are almost identical to the table above.\n",
    "\n",
    "\n",
    "|  | y = 1 | 2 | 3 | 4 | 5 | 6 | 7 | 8 | 9 | 10 |\n",
    "| -- | ----- | -- | -- | -- | -- | -- | -- | -- | -- | -- | \n",
    "| **x = 1** | 0.5012 | 0.2515 | 0.1240 | 0.0624 | 0.0316 | 0.0156 | 0.0068 | 0.0045 | 0.0022 | 0.0012 | \n",
    "| **2** | 0.7521 | 0.4984 | 0.3085 | 0.1890 | 0.1070 | 0.0638 | 0.0344 | 0.0193 | 0.0106 | 0.0051 | \n",
    "| **3** | 0.8766 | 0.6856 | 0.5003 | 0.3440 | 0.2260 | 0.1443 | 0.0894 | 0.0548 | 0.0332 | 0.0198 | \n",
    "| **4** | 0.9393 | 0.8134 | 0.6561 | 0.4972 | 0.3604 | 0.2510 | 0.1715 | 0.1156 | 0.0709 | 0.0451 | \n",
    "| **5** | 0.9692 | 0.8881 | 0.774 | 0.6369 | 0.4983 | 0.3767 | 0.2728 | 0.1939 | 0.1345 | 0.0901 | \n",
    "| **6** | 0.9842 | 0.9382 | 0.859 | 0.7473 | 0.6237 | 0.4978 | 0.3888 | 0.2887 | 0.2132 | 0.1518 | \n",
    "| **7** | 0.9924 | 0.9654 | 0.9119 | 0.8285 | 0.7272 | 0.6112 | 0.5012 | 0.3982 | 0.3080 | 0.2286 | \n",
    "| **8** | 0.9960 | 0.9816 | 0.9450 | 0.8888 | 0.8077 | 0.7083 | 0.6068 | 0.5030 | 0.4050 | 0.3167 | \n",
    "| **9** | 0.9981 | 0.9893 | 0.9672 | 0.9290 | 0.8673 | 0.7886 | 0.6958 | 0.5970 | 0.5050 | 0.4051 | \n",
    "| **10** | 0.9992 | 0.9941 | 0.9810 | 0.9523 | 0.9107 | 0.8494 | 0.7691 | 0.6867 | 0.5918 | 0.5019 |\n",
    "\n",
    "We can see that when both players start with the same number of tokens, they have 50-50 odds of winning. Additionally, the results are as expected for a game like this, where $X$'s win probability increases down the rows and decreases across the columns. Finally, it is interesting to note for the non-diagonal entries in the matrix $X$ above, $X_{i,j} + X_{j,i} = 1$."
   ]
  },
  {
   "cell_type": "code",
   "execution_count": 20,
   "metadata": {},
   "outputs": [],
   "source": [
    "def dice_game(x, y, n_episodes=50000):\n",
    "    if x <= 0 | y <=0 | (type(x) != int) | (type(y) != int):\n",
    "        raiseValueError('x and y must be positive integers')\n",
    "    wins = np.zeros(n_episodes)\n",
    "    for ep in range(n_episodes): \n",
    "        tokens_x, tokens_y = x, y #Reset token counts\n",
    "        while((tokens_x>0) & (tokens_y>0)):\n",
    "            win_X = np.random.binomial(1, 0.5) #1 if X wins, 0 if Y wins\n",
    "            if win_X:\n",
    "                tokens_y -=1\n",
    "            else:\n",
    "                tokens_x -=1\n",
    "            if tokens_y == 0:\n",
    "                wins[ep] = 1 #Player X wins\n",
    "            elif tokens_x == 0:\n",
    "                wins[ep] = 0 #Player Y wins\n",
    "    return wins"
   ]
  },
  {
   "cell_type": "code",
   "execution_count": 21,
   "metadata": {},
   "outputs": [
    {
     "name": "stdout",
     "output_type": "stream",
     "text": [
      "x=1\t0.5012\t0.2515\t0.124\t0.0624\t0.0316\t0.0156\t0.0068\t0.0045\t0.0022\t0.0012\t\n",
      "x=2\t0.7521\t0.4984\t0.3085\t0.189\t0.107\t0.0638\t0.0344\t0.0193\t0.0106\t0.0051\t\n",
      "x=3\t0.8766\t0.6856\t0.5003\t0.344\t0.226\t0.1443\t0.0894\t0.0548\t0.0332\t0.0198\t\n",
      "x=4\t0.9393\t0.8134\t0.6561\t0.4972\t0.3604\t0.251\t0.1715\t0.1156\t0.0709\t0.0451\t\n",
      "x=5\t0.9692\t0.8881\t0.774\t0.6369\t0.4983\t0.3767\t0.2728\t0.1939\t0.1345\t0.0901\t\n",
      "x=6\t0.9842\t0.9382\t0.859\t0.7473\t0.6237\t0.4978\t0.3888\t0.2887\t0.2132\t0.1518\t\n",
      "x=7\t0.9924\t0.9654\t0.9119\t0.8285\t0.7272\t0.6112\t0.5012\t0.3982\t0.308\t0.2286\t\n",
      "x=8\t0.996\t0.9816\t0.945\t0.8888\t0.8077\t0.7083\t0.6068\t0.503\t0.405\t0.3167\t\n",
      "x=9\t0.9981\t0.9893\t0.9672\t0.929\t0.8673\t0.7886\t0.6958\t0.597\t0.505\t0.4051\t\n",
      "x=10\t0.9992\t0.9941\t0.981\t0.9523\t0.9107\t0.8494\t0.7691\t0.6867\t0.5918\t0.5019\t\n"
     ]
    }
   ],
   "source": [
    "x = range(1,11)\n",
    "y = range(1,11)\n",
    "px = np.zeros_like(np.outer(x,y)).astype(float)\n",
    "\n",
    "np.random.seed(1)\n",
    "for i in x:\n",
    "    print('x={}'.format(i), end='\\t')\n",
    "    for j in y:\n",
    "        print(np.round(np.mean(dice_game(i, j)), 4), end='\\t')\n",
    "    print('')"
   ]
  }
 ],
 "metadata": {
  "kernelspec": {
   "display_name": "Python 3",
   "language": "python",
   "name": "python3"
  },
  "language_info": {
   "codemirror_mode": {
    "name": "ipython",
    "version": 3
   },
   "file_extension": ".py",
   "mimetype": "text/x-python",
   "name": "python",
   "nbconvert_exporter": "python",
   "pygments_lexer": "ipython3",
   "version": "3.8.3"
  }
 },
 "nbformat": 4,
 "nbformat_minor": 5
}
